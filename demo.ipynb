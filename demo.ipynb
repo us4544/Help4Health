{
  "nbformat": 4,
  "nbformat_minor": 0,
  "metadata": {
    "colab": {
      "name": "AI_Project.ipynb",
      "provenance": []
    },
    "kernelspec": {
      "name": "python3",
      "display_name": "Python 3"
    },
    "language_info": {
      "name": "python"
    }
  },
  "cells": [
    {
      "cell_type": "markdown",
      "source": [
        "## **Overview** \n",
        "\n",
        "The dataset utilised for the study of this project is PAMAP2, which is an Activity Monitoring dataset that comprises 18 distinct physical activities performed by 9 different people, 8 men and 1 women, utilising three inertial measurement units and a heart rate monitor.\n",
        "\n",
        "The aim of this project is to extract insights based on the findings of our investigation to identify how active an individual is based on physical activities that will be utilised to design hardware or software.\n",
        "\n",
        " The requirements of this project are to:\n",
        "\n",
        "* Carry out thoroughly exploratory data analysis and appropriately handle missing or dirty data\n",
        "\n",
        "* Develop and tests at least one hypothesis for a relationship between a single pair of attributes\n",
        "\n",
        "* Develop and test at least one model which uses multiple attributes to make predictions"
      ],
      "metadata": {
        "id": "WIzJmxNIoX1s"
      }
    },
    {
      "cell_type": "code",
      "source": [
        "from matplotlib import pyplot as plt\n",
        "%matplotlib inline\n",
        "import pandas as pd\n",
        "import numpy as np\n",
        "import math\n",
        "import pickle\n",
        "from sklearn.model_selection import train_test_split"
      ],
      "metadata": {
        "id": "OTpxG6xKpon8"
      },
      "execution_count": 38,
      "outputs": []
    },
    {
      "cell_type": "code",
      "source": [
        "from google.colab import drive\n",
        "\n",
        "drive.mount('/content/gdrive')"
      ],
      "metadata": {
        "colab": {
          "base_uri": "https://localhost:8080/"
        },
        "id": "g60c0OAdr-L8",
        "outputId": "695978c0-317f-4bd7-d33a-65e34f53c5b8"
      },
      "execution_count": 3,
      "outputs": [
        {
          "output_type": "stream",
          "name": "stdout",
          "text": [
            "Drive already mounted at /content/gdrive; to attempt to forcibly remount, call drive.mount(\"/content/gdrive\", force_remount=True).\n"
          ]
        }
      ]
    },
    {
      "cell_type": "code",
      "source": [
        "list_of_files = ['/content/gdrive/MyDrive/PAMAP2_Dataset/Protocol/subject101.dat',\n",
        "                 '/content/gdrive/MyDrive/PAMAP2_Dataset/Protocol/subject102.dat',\n",
        "                 '/content/gdrive/MyDrive/PAMAP2_Dataset/Protocol/subject103.dat',\n",
        "                 '/content/gdrive/MyDrive/PAMAP2_Dataset/Protocol/subject104.dat',\n",
        "                 '/content/gdrive/MyDrive/PAMAP2_Dataset/Protocol/subject105.dat',\n",
        "                 '/content/gdrive/MyDrive/PAMAP2_Dataset/Protocol/subject106.dat',\n",
        "                 '/content/gdrive/MyDrive/PAMAP2_Dataset/Protocol/subject107.dat',\n",
        "                 '/content/gdrive/MyDrive/PAMAP2_Dataset/Protocol/subject108.dat',\n",
        "                 '/content/gdrive/MyDrive/PAMAP2_Dataset/Protocol/subject109.dat',]\n",
        "\n",
        "subjectID = [1,2,3,4,5,6,7,8,9]\n",
        "\n",
        "activityIDdict = {0: 'transient',\n",
        "              1: 'lying',\n",
        "              2: 'sitting',\n",
        "              3: 'standing',\n",
        "              4: 'walking',\n",
        "              5: 'running',\n",
        "              6: 'cycling',\n",
        "              7: 'Nordic_walking',\n",
        "              9: 'watching_TV',\n",
        "              10: 'computer_work',\n",
        "              11: 'car driving',\n",
        "              12: 'ascending_stairs',\n",
        "              13: 'descending_stairs',\n",
        "              16: 'vacuum_cleaning',\n",
        "              17: 'ironing',\n",
        "              18: 'folding_laundry',\n",
        "              19: 'house_cleaning',\n",
        "              20: 'playing_soccer',\n",
        "              24: 'rope_jumping' }\n",
        "\n",
        "colNames = [\"timestamp\", \"activityID\",\"heartrate\"]\n",
        "\n",
        "IMUhand = ['handTemperature', \n",
        "           'handAcc16_1', 'handAcc16_2', 'handAcc16_3', \n",
        "           'handAcc6_1', 'handAcc6_2', 'handAcc6_3', \n",
        "           'handGyro1', 'handGyro2', 'handGyro3', \n",
        "           'handMagne1', 'handMagne2', 'handMagne3',\n",
        "           'handOrientation1', 'handOrientation2', 'handOrientation3', 'handOrientation4']\n",
        "\n",
        "IMUchest = ['chestTemperature', \n",
        "           'chestAcc16_1', 'chestAcc16_2', 'chestAcc16_3', \n",
        "           'chestAcc6_1', 'chestAcc6_2', 'chestAcc6_3', \n",
        "           'chestGyro1', 'chestGyro2', 'chestGyro3', \n",
        "           'chestMagne1', 'chestMagne2', 'chestMagne3',\n",
        "           'chestOrientation1', 'chestOrientation2', 'chestOrientation3', 'chestOrientation4']\n",
        "\n",
        "IMUankle = ['ankleTemperature', \n",
        "           'ankleAcc16_1', 'ankleAcc16_2', 'ankleAcc16_3', \n",
        "           'ankleAcc6_1', 'ankleAcc6_2', 'ankleAcc6_3', \n",
        "           'ankleGyro1', 'ankleGyro2', 'ankleGyro3', \n",
        "           'ankleMagne1', 'ankleMagne2', 'ankleMagne3',\n",
        "           'ankleOrientation1', 'ankleOrientation2', 'ankleOrientation3', 'ankleOrientation4']\n",
        "\n",
        "columns = colNames + IMUhand + IMUchest + IMUankle  \n",
        "\n",
        "len(columns)"
      ],
      "metadata": {
        "colab": {
          "base_uri": "https://localhost:8080/"
        },
        "id": "6sp9C5PEqKgo",
        "outputId": "1f6b18d2-e709-46f6-ed26-0c17e7a56280"
      },
      "execution_count": 4,
      "outputs": [
        {
          "output_type": "execute_result",
          "data": {
            "text/plain": [
              "54"
            ]
          },
          "metadata": {},
          "execution_count": 4
        }
      ]
    },
    {
      "cell_type": "code",
      "source": [
        "dataCollection = pd.DataFrame()\n",
        "for file in list_of_files:\n",
        "    procData = pd.read_table(file, header=None, sep='\\s+')\n",
        "    procData.columns = columns\n",
        "    procData['subject_id'] = int(file[-5])\n",
        "    dataCollection = dataCollection.append(procData, ignore_index=True)\n",
        "\n",
        "dataCollection.reset_index(drop=True, inplace=True)\n",
        "dataCollection.head()"
      ],
      "metadata": {
        "colab": {
          "base_uri": "https://localhost:8080/",
          "height": 300
        },
        "id": "3Lgsh0rPqPr1",
        "outputId": "92bdcbdb-f212-435e-d49a-cb355c81f9b2"
      },
      "execution_count": 5,
      "outputs": [
        {
          "output_type": "execute_result",
          "data": {
            "text/plain": [
              "   timestamp  activityID  heartrate  handTemperature  handAcc16_1  \\\n",
              "0       8.38           0      104.0             30.0      2.37223   \n",
              "1       8.39           0        NaN             30.0      2.18837   \n",
              "2       8.40           0        NaN             30.0      2.37357   \n",
              "3       8.41           0        NaN             30.0      2.07473   \n",
              "4       8.42           0        NaN             30.0      2.22936   \n",
              "\n",
              "   handAcc16_2  handAcc16_3  handAcc6_1  handAcc6_2  handAcc6_3  ...  \\\n",
              "0      8.60074      3.51048     2.43954     8.76165     3.35465  ...   \n",
              "1      8.56560      3.66179     2.39494     8.55081     3.64207  ...   \n",
              "2      8.60107      3.54898     2.30514     8.53644     3.73280  ...   \n",
              "3      8.52853      3.66021     2.33528     8.53622     3.73277  ...   \n",
              "4      8.83122      3.70000     2.23055     8.59741     3.76295  ...   \n",
              "\n",
              "   ankleGyro2  ankleGyro3  ankleMagne1  ankleMagne2  ankleMagne3  \\\n",
              "0    0.009250   -0.017580     -61.1888     -38.9599     -58.1438   \n",
              "1   -0.004638    0.000368     -59.8479     -38.8919     -58.5253   \n",
              "2    0.000148    0.022495     -60.7361     -39.4138     -58.3999   \n",
              "3   -0.020301    0.011275     -60.4091     -38.7635     -58.3956   \n",
              "4   -0.014303   -0.002823     -61.5199     -39.3879     -58.2694   \n",
              "\n",
              "   ankleOrientation1  ankleOrientation2  ankleOrientation3  ankleOrientation4  \\\n",
              "0                1.0                0.0                0.0                0.0   \n",
              "1                1.0                0.0                0.0                0.0   \n",
              "2                1.0                0.0                0.0                0.0   \n",
              "3                1.0                0.0                0.0                0.0   \n",
              "4                1.0                0.0                0.0                0.0   \n",
              "\n",
              "   subject_id  \n",
              "0           1  \n",
              "1           1  \n",
              "2           1  \n",
              "3           1  \n",
              "4           1  \n",
              "\n",
              "[5 rows x 55 columns]"
            ],
            "text/html": [
              "\n",
              "  <div id=\"df-2aaf6489-3612-4a46-bb7c-dc8331f6987f\">\n",
              "    <div class=\"colab-df-container\">\n",
              "      <div>\n",
              "<style scoped>\n",
              "    .dataframe tbody tr th:only-of-type {\n",
              "        vertical-align: middle;\n",
              "    }\n",
              "\n",
              "    .dataframe tbody tr th {\n",
              "        vertical-align: top;\n",
              "    }\n",
              "\n",
              "    .dataframe thead th {\n",
              "        text-align: right;\n",
              "    }\n",
              "</style>\n",
              "<table border=\"1\" class=\"dataframe\">\n",
              "  <thead>\n",
              "    <tr style=\"text-align: right;\">\n",
              "      <th></th>\n",
              "      <th>timestamp</th>\n",
              "      <th>activityID</th>\n",
              "      <th>heartrate</th>\n",
              "      <th>handTemperature</th>\n",
              "      <th>handAcc16_1</th>\n",
              "      <th>handAcc16_2</th>\n",
              "      <th>handAcc16_3</th>\n",
              "      <th>handAcc6_1</th>\n",
              "      <th>handAcc6_2</th>\n",
              "      <th>handAcc6_3</th>\n",
              "      <th>...</th>\n",
              "      <th>ankleGyro2</th>\n",
              "      <th>ankleGyro3</th>\n",
              "      <th>ankleMagne1</th>\n",
              "      <th>ankleMagne2</th>\n",
              "      <th>ankleMagne3</th>\n",
              "      <th>ankleOrientation1</th>\n",
              "      <th>ankleOrientation2</th>\n",
              "      <th>ankleOrientation3</th>\n",
              "      <th>ankleOrientation4</th>\n",
              "      <th>subject_id</th>\n",
              "    </tr>\n",
              "  </thead>\n",
              "  <tbody>\n",
              "    <tr>\n",
              "      <th>0</th>\n",
              "      <td>8.38</td>\n",
              "      <td>0</td>\n",
              "      <td>104.0</td>\n",
              "      <td>30.0</td>\n",
              "      <td>2.37223</td>\n",
              "      <td>8.60074</td>\n",
              "      <td>3.51048</td>\n",
              "      <td>2.43954</td>\n",
              "      <td>8.76165</td>\n",
              "      <td>3.35465</td>\n",
              "      <td>...</td>\n",
              "      <td>0.009250</td>\n",
              "      <td>-0.017580</td>\n",
              "      <td>-61.1888</td>\n",
              "      <td>-38.9599</td>\n",
              "      <td>-58.1438</td>\n",
              "      <td>1.0</td>\n",
              "      <td>0.0</td>\n",
              "      <td>0.0</td>\n",
              "      <td>0.0</td>\n",
              "      <td>1</td>\n",
              "    </tr>\n",
              "    <tr>\n",
              "      <th>1</th>\n",
              "      <td>8.39</td>\n",
              "      <td>0</td>\n",
              "      <td>NaN</td>\n",
              "      <td>30.0</td>\n",
              "      <td>2.18837</td>\n",
              "      <td>8.56560</td>\n",
              "      <td>3.66179</td>\n",
              "      <td>2.39494</td>\n",
              "      <td>8.55081</td>\n",
              "      <td>3.64207</td>\n",
              "      <td>...</td>\n",
              "      <td>-0.004638</td>\n",
              "      <td>0.000368</td>\n",
              "      <td>-59.8479</td>\n",
              "      <td>-38.8919</td>\n",
              "      <td>-58.5253</td>\n",
              "      <td>1.0</td>\n",
              "      <td>0.0</td>\n",
              "      <td>0.0</td>\n",
              "      <td>0.0</td>\n",
              "      <td>1</td>\n",
              "    </tr>\n",
              "    <tr>\n",
              "      <th>2</th>\n",
              "      <td>8.40</td>\n",
              "      <td>0</td>\n",
              "      <td>NaN</td>\n",
              "      <td>30.0</td>\n",
              "      <td>2.37357</td>\n",
              "      <td>8.60107</td>\n",
              "      <td>3.54898</td>\n",
              "      <td>2.30514</td>\n",
              "      <td>8.53644</td>\n",
              "      <td>3.73280</td>\n",
              "      <td>...</td>\n",
              "      <td>0.000148</td>\n",
              "      <td>0.022495</td>\n",
              "      <td>-60.7361</td>\n",
              "      <td>-39.4138</td>\n",
              "      <td>-58.3999</td>\n",
              "      <td>1.0</td>\n",
              "      <td>0.0</td>\n",
              "      <td>0.0</td>\n",
              "      <td>0.0</td>\n",
              "      <td>1</td>\n",
              "    </tr>\n",
              "    <tr>\n",
              "      <th>3</th>\n",
              "      <td>8.41</td>\n",
              "      <td>0</td>\n",
              "      <td>NaN</td>\n",
              "      <td>30.0</td>\n",
              "      <td>2.07473</td>\n",
              "      <td>8.52853</td>\n",
              "      <td>3.66021</td>\n",
              "      <td>2.33528</td>\n",
              "      <td>8.53622</td>\n",
              "      <td>3.73277</td>\n",
              "      <td>...</td>\n",
              "      <td>-0.020301</td>\n",
              "      <td>0.011275</td>\n",
              "      <td>-60.4091</td>\n",
              "      <td>-38.7635</td>\n",
              "      <td>-58.3956</td>\n",
              "      <td>1.0</td>\n",
              "      <td>0.0</td>\n",
              "      <td>0.0</td>\n",
              "      <td>0.0</td>\n",
              "      <td>1</td>\n",
              "    </tr>\n",
              "    <tr>\n",
              "      <th>4</th>\n",
              "      <td>8.42</td>\n",
              "      <td>0</td>\n",
              "      <td>NaN</td>\n",
              "      <td>30.0</td>\n",
              "      <td>2.22936</td>\n",
              "      <td>8.83122</td>\n",
              "      <td>3.70000</td>\n",
              "      <td>2.23055</td>\n",
              "      <td>8.59741</td>\n",
              "      <td>3.76295</td>\n",
              "      <td>...</td>\n",
              "      <td>-0.014303</td>\n",
              "      <td>-0.002823</td>\n",
              "      <td>-61.5199</td>\n",
              "      <td>-39.3879</td>\n",
              "      <td>-58.2694</td>\n",
              "      <td>1.0</td>\n",
              "      <td>0.0</td>\n",
              "      <td>0.0</td>\n",
              "      <td>0.0</td>\n",
              "      <td>1</td>\n",
              "    </tr>\n",
              "  </tbody>\n",
              "</table>\n",
              "<p>5 rows × 55 columns</p>\n",
              "</div>\n",
              "      <button class=\"colab-df-convert\" onclick=\"convertToInteractive('df-2aaf6489-3612-4a46-bb7c-dc8331f6987f')\"\n",
              "              title=\"Convert this dataframe to an interactive table.\"\n",
              "              style=\"display:none;\">\n",
              "        \n",
              "  <svg xmlns=\"http://www.w3.org/2000/svg\" height=\"24px\"viewBox=\"0 0 24 24\"\n",
              "       width=\"24px\">\n",
              "    <path d=\"M0 0h24v24H0V0z\" fill=\"none\"/>\n",
              "    <path d=\"M18.56 5.44l.94 2.06.94-2.06 2.06-.94-2.06-.94-.94-2.06-.94 2.06-2.06.94zm-11 1L8.5 8.5l.94-2.06 2.06-.94-2.06-.94L8.5 2.5l-.94 2.06-2.06.94zm10 10l.94 2.06.94-2.06 2.06-.94-2.06-.94-.94-2.06-.94 2.06-2.06.94z\"/><path d=\"M17.41 7.96l-1.37-1.37c-.4-.4-.92-.59-1.43-.59-.52 0-1.04.2-1.43.59L10.3 9.45l-7.72 7.72c-.78.78-.78 2.05 0 2.83L4 21.41c.39.39.9.59 1.41.59.51 0 1.02-.2 1.41-.59l7.78-7.78 2.81-2.81c.8-.78.8-2.07 0-2.86zM5.41 20L4 18.59l7.72-7.72 1.47 1.35L5.41 20z\"/>\n",
              "  </svg>\n",
              "      </button>\n",
              "      \n",
              "  <style>\n",
              "    .colab-df-container {\n",
              "      display:flex;\n",
              "      flex-wrap:wrap;\n",
              "      gap: 12px;\n",
              "    }\n",
              "\n",
              "    .colab-df-convert {\n",
              "      background-color: #E8F0FE;\n",
              "      border: none;\n",
              "      border-radius: 50%;\n",
              "      cursor: pointer;\n",
              "      display: none;\n",
              "      fill: #1967D2;\n",
              "      height: 32px;\n",
              "      padding: 0 0 0 0;\n",
              "      width: 32px;\n",
              "    }\n",
              "\n",
              "    .colab-df-convert:hover {\n",
              "      background-color: #E2EBFA;\n",
              "      box-shadow: 0px 1px 2px rgba(60, 64, 67, 0.3), 0px 1px 3px 1px rgba(60, 64, 67, 0.15);\n",
              "      fill: #174EA6;\n",
              "    }\n",
              "\n",
              "    [theme=dark] .colab-df-convert {\n",
              "      background-color: #3B4455;\n",
              "      fill: #D2E3FC;\n",
              "    }\n",
              "\n",
              "    [theme=dark] .colab-df-convert:hover {\n",
              "      background-color: #434B5C;\n",
              "      box-shadow: 0px 1px 3px 1px rgba(0, 0, 0, 0.15);\n",
              "      filter: drop-shadow(0px 1px 2px rgba(0, 0, 0, 0.3));\n",
              "      fill: #FFFFFF;\n",
              "    }\n",
              "  </style>\n",
              "\n",
              "      <script>\n",
              "        const buttonEl =\n",
              "          document.querySelector('#df-2aaf6489-3612-4a46-bb7c-dc8331f6987f button.colab-df-convert');\n",
              "        buttonEl.style.display =\n",
              "          google.colab.kernel.accessAllowed ? 'block' : 'none';\n",
              "\n",
              "        async function convertToInteractive(key) {\n",
              "          const element = document.querySelector('#df-2aaf6489-3612-4a46-bb7c-dc8331f6987f');\n",
              "          const dataTable =\n",
              "            await google.colab.kernel.invokeFunction('convertToInteractive',\n",
              "                                                     [key], {});\n",
              "          if (!dataTable) return;\n",
              "\n",
              "          const docLinkHtml = 'Like what you see? Visit the ' +\n",
              "            '<a target=\"_blank\" href=https://colab.research.google.com/notebooks/data_table.ipynb>data table notebook</a>'\n",
              "            + ' to learn more about interactive tables.';\n",
              "          element.innerHTML = '';\n",
              "          dataTable['output_type'] = 'display_data';\n",
              "          await google.colab.output.renderOutput(dataTable, element);\n",
              "          const docLink = document.createElement('div');\n",
              "          docLink.innerHTML = docLinkHtml;\n",
              "          element.appendChild(docLink);\n",
              "        }\n",
              "      </script>\n",
              "    </div>\n",
              "  </div>\n",
              "  "
            ]
          },
          "metadata": {},
          "execution_count": 5
        }
      ]
    },
    {
      "cell_type": "markdown",
      "source": [
        "## **Data cleaning**"
      ],
      "metadata": {
        "id": "IbUTjKUo1VWT"
      }
    },
    {
      "cell_type": "code",
      "source": [
        "def dataCleaning(dataCollection):\n",
        "        dataCollection = dataCollection.drop(['handOrientation1', 'handOrientation2', 'handOrientation3', 'handOrientation4',\n",
        "                                             'chestOrientation1', 'chestOrientation2', 'chestOrientation3', 'chestOrientation4',\n",
        "                                             'ankleOrientation1', 'ankleOrientation2', 'ankleOrientation3', 'ankleOrientation4'],\n",
        "                                             axis = 1)  \n",
        "        dataCollection = dataCollection.drop(dataCollection[dataCollection.activityID == 0].index)\n",
        "        dataCollection = dataCollection.apply(pd.to_numeric, errors = 'coerce') \n",
        "        dataCollection = dataCollection.interpolate() \n",
        "        \n",
        "        return dataCollection"
      ],
      "metadata": {
        "id": "_6UJlP30qTrs"
      },
      "execution_count": 7,
      "outputs": []
    },
    {
      "cell_type": "code",
      "source": [
        "dataCol = dataCleaning(dataCollection)"
      ],
      "metadata": {
        "id": "aAH8muw9qbv7"
      },
      "execution_count": 8,
      "outputs": []
    },
    {
      "cell_type": "code",
      "source": [
        "dataCol.reset_index(drop = True, inplace = True)\n",
        "dataCol.head(5)"
      ],
      "metadata": {
        "colab": {
          "base_uri": "https://localhost:8080/",
          "height": 300
        },
        "id": "tCbRypu1qfId",
        "outputId": "3df3a3d7-9ded-4fee-f06d-d629224a60a4"
      },
      "execution_count": 9,
      "outputs": [
        {
          "output_type": "execute_result",
          "data": {
            "text/plain": [
              "   timestamp  activityID  heartrate  handTemperature  handAcc16_1  \\\n",
              "0      37.66           1        NaN           30.375      2.21530   \n",
              "1      37.67           1        NaN           30.375      2.29196   \n",
              "2      37.68           1        NaN           30.375      2.29090   \n",
              "3      37.69           1        NaN           30.375      2.21800   \n",
              "4      37.70           1      100.0           30.375      2.30106   \n",
              "\n",
              "   handAcc16_2  handAcc16_3  handAcc6_1  handAcc6_2  handAcc6_3  ...  \\\n",
              "0      8.27915      5.58753     2.24689     8.55387     5.77143  ...   \n",
              "1      7.67288      5.74467     2.27373     8.14592     5.78739  ...   \n",
              "2      7.14240      5.82342     2.26966     7.66268     5.78846  ...   \n",
              "3      7.14365      5.89930     2.22177     7.25535     5.88000  ...   \n",
              "4      7.25857      6.09259     2.20720     7.24042     5.95555  ...   \n",
              "\n",
              "   ankleAcc6_1  ankleAcc6_2  ankleAcc6_3  ankleGyro1  ankleGyro2  ankleGyro3  \\\n",
              "0      9.63162     -1.76757     0.265761    0.002908   -0.027714    0.001752   \n",
              "1      9.58649     -1.75247     0.250816    0.020882    0.000945    0.006007   \n",
              "2      9.60196     -1.73721     0.356632   -0.035392   -0.052422   -0.004882   \n",
              "3      9.58674     -1.78264     0.311453   -0.032514   -0.018844    0.026950   \n",
              "4      9.64677     -1.75240     0.295902    0.001351   -0.048878   -0.006328   \n",
              "\n",
              "   ankleMagne1  ankleMagne2  ankleMagne3  subject_id  \n",
              "0     -61.1081     -36.8636     -58.3696           1  \n",
              "1     -60.8916     -36.3197     -58.3656           1  \n",
              "2     -60.3407     -35.7842     -58.6119           1  \n",
              "3     -60.7646     -37.1028     -57.8799           1  \n",
              "4     -60.2040     -37.1225     -57.8847           1  \n",
              "\n",
              "[5 rows x 43 columns]"
            ],
            "text/html": [
              "\n",
              "  <div id=\"df-ac586e64-2dc0-4fff-b68a-ad878a4aac8b\">\n",
              "    <div class=\"colab-df-container\">\n",
              "      <div>\n",
              "<style scoped>\n",
              "    .dataframe tbody tr th:only-of-type {\n",
              "        vertical-align: middle;\n",
              "    }\n",
              "\n",
              "    .dataframe tbody tr th {\n",
              "        vertical-align: top;\n",
              "    }\n",
              "\n",
              "    .dataframe thead th {\n",
              "        text-align: right;\n",
              "    }\n",
              "</style>\n",
              "<table border=\"1\" class=\"dataframe\">\n",
              "  <thead>\n",
              "    <tr style=\"text-align: right;\">\n",
              "      <th></th>\n",
              "      <th>timestamp</th>\n",
              "      <th>activityID</th>\n",
              "      <th>heartrate</th>\n",
              "      <th>handTemperature</th>\n",
              "      <th>handAcc16_1</th>\n",
              "      <th>handAcc16_2</th>\n",
              "      <th>handAcc16_3</th>\n",
              "      <th>handAcc6_1</th>\n",
              "      <th>handAcc6_2</th>\n",
              "      <th>handAcc6_3</th>\n",
              "      <th>...</th>\n",
              "      <th>ankleAcc6_1</th>\n",
              "      <th>ankleAcc6_2</th>\n",
              "      <th>ankleAcc6_3</th>\n",
              "      <th>ankleGyro1</th>\n",
              "      <th>ankleGyro2</th>\n",
              "      <th>ankleGyro3</th>\n",
              "      <th>ankleMagne1</th>\n",
              "      <th>ankleMagne2</th>\n",
              "      <th>ankleMagne3</th>\n",
              "      <th>subject_id</th>\n",
              "    </tr>\n",
              "  </thead>\n",
              "  <tbody>\n",
              "    <tr>\n",
              "      <th>0</th>\n",
              "      <td>37.66</td>\n",
              "      <td>1</td>\n",
              "      <td>NaN</td>\n",
              "      <td>30.375</td>\n",
              "      <td>2.21530</td>\n",
              "      <td>8.27915</td>\n",
              "      <td>5.58753</td>\n",
              "      <td>2.24689</td>\n",
              "      <td>8.55387</td>\n",
              "      <td>5.77143</td>\n",
              "      <td>...</td>\n",
              "      <td>9.63162</td>\n",
              "      <td>-1.76757</td>\n",
              "      <td>0.265761</td>\n",
              "      <td>0.002908</td>\n",
              "      <td>-0.027714</td>\n",
              "      <td>0.001752</td>\n",
              "      <td>-61.1081</td>\n",
              "      <td>-36.8636</td>\n",
              "      <td>-58.3696</td>\n",
              "      <td>1</td>\n",
              "    </tr>\n",
              "    <tr>\n",
              "      <th>1</th>\n",
              "      <td>37.67</td>\n",
              "      <td>1</td>\n",
              "      <td>NaN</td>\n",
              "      <td>30.375</td>\n",
              "      <td>2.29196</td>\n",
              "      <td>7.67288</td>\n",
              "      <td>5.74467</td>\n",
              "      <td>2.27373</td>\n",
              "      <td>8.14592</td>\n",
              "      <td>5.78739</td>\n",
              "      <td>...</td>\n",
              "      <td>9.58649</td>\n",
              "      <td>-1.75247</td>\n",
              "      <td>0.250816</td>\n",
              "      <td>0.020882</td>\n",
              "      <td>0.000945</td>\n",
              "      <td>0.006007</td>\n",
              "      <td>-60.8916</td>\n",
              "      <td>-36.3197</td>\n",
              "      <td>-58.3656</td>\n",
              "      <td>1</td>\n",
              "    </tr>\n",
              "    <tr>\n",
              "      <th>2</th>\n",
              "      <td>37.68</td>\n",
              "      <td>1</td>\n",
              "      <td>NaN</td>\n",
              "      <td>30.375</td>\n",
              "      <td>2.29090</td>\n",
              "      <td>7.14240</td>\n",
              "      <td>5.82342</td>\n",
              "      <td>2.26966</td>\n",
              "      <td>7.66268</td>\n",
              "      <td>5.78846</td>\n",
              "      <td>...</td>\n",
              "      <td>9.60196</td>\n",
              "      <td>-1.73721</td>\n",
              "      <td>0.356632</td>\n",
              "      <td>-0.035392</td>\n",
              "      <td>-0.052422</td>\n",
              "      <td>-0.004882</td>\n",
              "      <td>-60.3407</td>\n",
              "      <td>-35.7842</td>\n",
              "      <td>-58.6119</td>\n",
              "      <td>1</td>\n",
              "    </tr>\n",
              "    <tr>\n",
              "      <th>3</th>\n",
              "      <td>37.69</td>\n",
              "      <td>1</td>\n",
              "      <td>NaN</td>\n",
              "      <td>30.375</td>\n",
              "      <td>2.21800</td>\n",
              "      <td>7.14365</td>\n",
              "      <td>5.89930</td>\n",
              "      <td>2.22177</td>\n",
              "      <td>7.25535</td>\n",
              "      <td>5.88000</td>\n",
              "      <td>...</td>\n",
              "      <td>9.58674</td>\n",
              "      <td>-1.78264</td>\n",
              "      <td>0.311453</td>\n",
              "      <td>-0.032514</td>\n",
              "      <td>-0.018844</td>\n",
              "      <td>0.026950</td>\n",
              "      <td>-60.7646</td>\n",
              "      <td>-37.1028</td>\n",
              "      <td>-57.8799</td>\n",
              "      <td>1</td>\n",
              "    </tr>\n",
              "    <tr>\n",
              "      <th>4</th>\n",
              "      <td>37.70</td>\n",
              "      <td>1</td>\n",
              "      <td>100.0</td>\n",
              "      <td>30.375</td>\n",
              "      <td>2.30106</td>\n",
              "      <td>7.25857</td>\n",
              "      <td>6.09259</td>\n",
              "      <td>2.20720</td>\n",
              "      <td>7.24042</td>\n",
              "      <td>5.95555</td>\n",
              "      <td>...</td>\n",
              "      <td>9.64677</td>\n",
              "      <td>-1.75240</td>\n",
              "      <td>0.295902</td>\n",
              "      <td>0.001351</td>\n",
              "      <td>-0.048878</td>\n",
              "      <td>-0.006328</td>\n",
              "      <td>-60.2040</td>\n",
              "      <td>-37.1225</td>\n",
              "      <td>-57.8847</td>\n",
              "      <td>1</td>\n",
              "    </tr>\n",
              "  </tbody>\n",
              "</table>\n",
              "<p>5 rows × 43 columns</p>\n",
              "</div>\n",
              "      <button class=\"colab-df-convert\" onclick=\"convertToInteractive('df-ac586e64-2dc0-4fff-b68a-ad878a4aac8b')\"\n",
              "              title=\"Convert this dataframe to an interactive table.\"\n",
              "              style=\"display:none;\">\n",
              "        \n",
              "  <svg xmlns=\"http://www.w3.org/2000/svg\" height=\"24px\"viewBox=\"0 0 24 24\"\n",
              "       width=\"24px\">\n",
              "    <path d=\"M0 0h24v24H0V0z\" fill=\"none\"/>\n",
              "    <path d=\"M18.56 5.44l.94 2.06.94-2.06 2.06-.94-2.06-.94-.94-2.06-.94 2.06-2.06.94zm-11 1L8.5 8.5l.94-2.06 2.06-.94-2.06-.94L8.5 2.5l-.94 2.06-2.06.94zm10 10l.94 2.06.94-2.06 2.06-.94-2.06-.94-.94-2.06-.94 2.06-2.06.94z\"/><path d=\"M17.41 7.96l-1.37-1.37c-.4-.4-.92-.59-1.43-.59-.52 0-1.04.2-1.43.59L10.3 9.45l-7.72 7.72c-.78.78-.78 2.05 0 2.83L4 21.41c.39.39.9.59 1.41.59.51 0 1.02-.2 1.41-.59l7.78-7.78 2.81-2.81c.8-.78.8-2.07 0-2.86zM5.41 20L4 18.59l7.72-7.72 1.47 1.35L5.41 20z\"/>\n",
              "  </svg>\n",
              "      </button>\n",
              "      \n",
              "  <style>\n",
              "    .colab-df-container {\n",
              "      display:flex;\n",
              "      flex-wrap:wrap;\n",
              "      gap: 12px;\n",
              "    }\n",
              "\n",
              "    .colab-df-convert {\n",
              "      background-color: #E8F0FE;\n",
              "      border: none;\n",
              "      border-radius: 50%;\n",
              "      cursor: pointer;\n",
              "      display: none;\n",
              "      fill: #1967D2;\n",
              "      height: 32px;\n",
              "      padding: 0 0 0 0;\n",
              "      width: 32px;\n",
              "    }\n",
              "\n",
              "    .colab-df-convert:hover {\n",
              "      background-color: #E2EBFA;\n",
              "      box-shadow: 0px 1px 2px rgba(60, 64, 67, 0.3), 0px 1px 3px 1px rgba(60, 64, 67, 0.15);\n",
              "      fill: #174EA6;\n",
              "    }\n",
              "\n",
              "    [theme=dark] .colab-df-convert {\n",
              "      background-color: #3B4455;\n",
              "      fill: #D2E3FC;\n",
              "    }\n",
              "\n",
              "    [theme=dark] .colab-df-convert:hover {\n",
              "      background-color: #434B5C;\n",
              "      box-shadow: 0px 1px 3px 1px rgba(0, 0, 0, 0.15);\n",
              "      filter: drop-shadow(0px 1px 2px rgba(0, 0, 0, 0.3));\n",
              "      fill: #FFFFFF;\n",
              "    }\n",
              "  </style>\n",
              "\n",
              "      <script>\n",
              "        const buttonEl =\n",
              "          document.querySelector('#df-ac586e64-2dc0-4fff-b68a-ad878a4aac8b button.colab-df-convert');\n",
              "        buttonEl.style.display =\n",
              "          google.colab.kernel.accessAllowed ? 'block' : 'none';\n",
              "\n",
              "        async function convertToInteractive(key) {\n",
              "          const element = document.querySelector('#df-ac586e64-2dc0-4fff-b68a-ad878a4aac8b');\n",
              "          const dataTable =\n",
              "            await google.colab.kernel.invokeFunction('convertToInteractive',\n",
              "                                                     [key], {});\n",
              "          if (!dataTable) return;\n",
              "\n",
              "          const docLinkHtml = 'Like what you see? Visit the ' +\n",
              "            '<a target=\"_blank\" href=https://colab.research.google.com/notebooks/data_table.ipynb>data table notebook</a>'\n",
              "            + ' to learn more about interactive tables.';\n",
              "          element.innerHTML = '';\n",
              "          dataTable['output_type'] = 'display_data';\n",
              "          await google.colab.output.renderOutput(dataTable, element);\n",
              "          const docLink = document.createElement('div');\n",
              "          docLink.innerHTML = docLinkHtml;\n",
              "          element.appendChild(docLink);\n",
              "        }\n",
              "      </script>\n",
              "    </div>\n",
              "  </div>\n",
              "  "
            ]
          },
          "metadata": {},
          "execution_count": 9
        }
      ]
    },
    {
      "cell_type": "code",
      "source": [
        "dataCol.isnull().sum()"
      ],
      "metadata": {
        "colab": {
          "base_uri": "https://localhost:8080/"
        },
        "id": "rFjJmr6uqrG2",
        "outputId": "766281cc-54fd-4e84-d06c-0608f13475ed"
      },
      "execution_count": 10,
      "outputs": [
        {
          "output_type": "execute_result",
          "data": {
            "text/plain": [
              "timestamp           0\n",
              "activityID          0\n",
              "heartrate           4\n",
              "handTemperature     0\n",
              "handAcc16_1         0\n",
              "handAcc16_2         0\n",
              "handAcc16_3         0\n",
              "handAcc6_1          0\n",
              "handAcc6_2          0\n",
              "handAcc6_3          0\n",
              "handGyro1           0\n",
              "handGyro2           0\n",
              "handGyro3           0\n",
              "handMagne1          0\n",
              "handMagne2          0\n",
              "handMagne3          0\n",
              "chestTemperature    0\n",
              "chestAcc16_1        0\n",
              "chestAcc16_2        0\n",
              "chestAcc16_3        0\n",
              "chestAcc6_1         0\n",
              "chestAcc6_2         0\n",
              "chestAcc6_3         0\n",
              "chestGyro1          0\n",
              "chestGyro2          0\n",
              "chestGyro3          0\n",
              "chestMagne1         0\n",
              "chestMagne2         0\n",
              "chestMagne3         0\n",
              "ankleTemperature    0\n",
              "ankleAcc16_1        0\n",
              "ankleAcc16_2        0\n",
              "ankleAcc16_3        0\n",
              "ankleAcc6_1         0\n",
              "ankleAcc6_2         0\n",
              "ankleAcc6_3         0\n",
              "ankleGyro1          0\n",
              "ankleGyro2          0\n",
              "ankleGyro3          0\n",
              "ankleMagne1         0\n",
              "ankleMagne2         0\n",
              "ankleMagne3         0\n",
              "subject_id          0\n",
              "dtype: int64"
            ]
          },
          "metadata": {},
          "execution_count": 10
        }
      ]
    },
    {
      "cell_type": "code",
      "source": [
        "for i in range(0,4):\n",
        "    dataCol[\"heartrate\"].iloc[i]=100"
      ],
      "metadata": {
        "colab": {
          "base_uri": "https://localhost:8080/"
        },
        "id": "E0Uu5zEbq07L",
        "outputId": "21dffd43-c7ac-48d1-fe5f-e51a837fd209"
      },
      "execution_count": 11,
      "outputs": [
        {
          "output_type": "stream",
          "name": "stderr",
          "text": [
            "/usr/local/lib/python3.7/dist-packages/pandas/core/indexing.py:1732: SettingWithCopyWarning: \n",
            "A value is trying to be set on a copy of a slice from a DataFrame\n",
            "\n",
            "See the caveats in the documentation: https://pandas.pydata.org/pandas-docs/stable/user_guide/indexing.html#returning-a-view-versus-a-copy\n",
            "  self._setitem_single_block(indexer, value, name)\n"
          ]
        }
      ]
    },
    {
      "cell_type": "code",
      "source": [
        "dataCol.isnull().sum()"
      ],
      "metadata": {
        "colab": {
          "base_uri": "https://localhost:8080/"
        },
        "id": "kBSJn_tsuHfm",
        "outputId": "f8a92cc6-85d7-4984-d979-7139227a6522"
      },
      "execution_count": 12,
      "outputs": [
        {
          "output_type": "execute_result",
          "data": {
            "text/plain": [
              "timestamp           0\n",
              "activityID          0\n",
              "heartrate           0\n",
              "handTemperature     0\n",
              "handAcc16_1         0\n",
              "handAcc16_2         0\n",
              "handAcc16_3         0\n",
              "handAcc6_1          0\n",
              "handAcc6_2          0\n",
              "handAcc6_3          0\n",
              "handGyro1           0\n",
              "handGyro2           0\n",
              "handGyro3           0\n",
              "handMagne1          0\n",
              "handMagne2          0\n",
              "handMagne3          0\n",
              "chestTemperature    0\n",
              "chestAcc16_1        0\n",
              "chestAcc16_2        0\n",
              "chestAcc16_3        0\n",
              "chestAcc6_1         0\n",
              "chestAcc6_2         0\n",
              "chestAcc6_3         0\n",
              "chestGyro1          0\n",
              "chestGyro2          0\n",
              "chestGyro3          0\n",
              "chestMagne1         0\n",
              "chestMagne2         0\n",
              "chestMagne3         0\n",
              "ankleTemperature    0\n",
              "ankleAcc16_1        0\n",
              "ankleAcc16_2        0\n",
              "ankleAcc16_3        0\n",
              "ankleAcc6_1         0\n",
              "ankleAcc6_2         0\n",
              "ankleAcc6_3         0\n",
              "ankleGyro1          0\n",
              "ankleGyro2          0\n",
              "ankleGyro3          0\n",
              "ankleMagne1         0\n",
              "ankleMagne2         0\n",
              "ankleMagne3         0\n",
              "subject_id          0\n",
              "dtype: int64"
            ]
          },
          "metadata": {},
          "execution_count": 12
        }
      ]
    },
    {
      "cell_type": "markdown",
      "source": [
        "## **Exploratory Data Analysis**"
      ],
      "metadata": {
        "id": "nZ3Gz6K3uSp_"
      }
    },
    {
      "cell_type": "code",
      "source": [
        "dataCol['activityID'].value_counts().plot(kind = \"bar\",figsize = (12,6))\n",
        "plt.show()"
      ],
      "metadata": {
        "colab": {
          "base_uri": "https://localhost:8080/",
          "height": 380
        },
        "id": "3P5BuPzquP-Y",
        "outputId": "f390c3a7-e127-422e-9967-e71a9c92b4b0"
      },
      "execution_count": 13,
      "outputs": [
        {
          "output_type": "display_data",
          "data": {
            "text/plain": [
              "<Figure size 864x432 with 1 Axes>"
            ],
            "image/png": "[encoded data removed]"
          },
          "metadata": {
            "needs_background": "light"
          }
        }
      ]
    },
    {
      "cell_type": "code",
      "source": [
        "train_df = dataCol.sample(frac=0.8, random_state=1)\n",
        "test_df = dataCol.drop(train_df.index)"
      ],
      "metadata": {
        "id": "BT3Dop22ucV_"
      },
      "execution_count": 14,
      "outputs": []
    },
    {
      "cell_type": "code",
      "source": [
        "train_df.describe()"
      ],
      "metadata": {
        "colab": {
          "base_uri": "https://localhost:8080/",
          "height": 394
        },
        "id": "UyZ3f_hyud-O",
        "outputId": "a5937f38-0e33-4e77-a4c3-f90c42a20690"
      },
      "execution_count": 15,
      "outputs": [
        {
          "output_type": "execute_result",
          "data": {
            "text/plain": [
              "          timestamp    activityID     heartrate  handTemperature  \\\n",
              "count  1.554298e+06  1.554298e+06  1.554298e+06     1.554298e+06   \n",
              "mean   1.705049e+03  8.080534e+00  1.074758e+02     3.275138e+01   \n",
              "std    1.093592e+03  6.175064e+00  2.699031e+01     1.794207e+00   \n",
              "min    3.120000e+01  1.000000e+00  5.700000e+01     2.487500e+01   \n",
              "25%    7.442925e+02  3.000000e+00  8.600000e+01     3.168750e+01   \n",
              "50%    1.480090e+03  6.000000e+00  1.040000e+02     3.312500e+01   \n",
              "75%    2.664000e+03  1.300000e+01  1.240000e+02     3.406250e+01   \n",
              "max    4.245680e+03  2.400000e+01  2.020000e+02     3.550000e+01   \n",
              "\n",
              "        handAcc16_1   handAcc16_2   handAcc16_3    handAcc6_1    handAcc6_2  \\\n",
              "count  1.554298e+06  1.554298e+06  1.554298e+06  1.554298e+06  1.554298e+06   \n",
              "mean  -4.953526e+00  3.581113e+00  3.603514e+00 -4.886385e+00  3.570863e+00   \n",
              "std    6.239143e+00  6.886169e+00  3.958145e+00  6.245060e+00  6.585066e+00   \n",
              "min   -1.453670e+02 -1.043010e+02 -1.014520e+02 -6.121470e+01 -6.184170e+01   \n",
              "25%   -8.970020e+00  1.057830e+00  1.162090e+00 -8.867070e+00  1.055562e+00   \n",
              "50%   -5.449130e+00  3.525300e+00  3.432840e+00 -5.377104e+00  3.566820e+00   \n",
              "75%   -9.581007e-01  6.450508e+00  6.532445e+00 -9.061720e-01  6.458267e+00   \n",
              "max    6.285960e+01  1.556990e+02  1.577600e+02  5.282140e+01  6.225980e+01   \n",
              "\n",
              "         handAcc6_3  ...   ankleAcc6_1   ankleAcc6_2   ankleAcc6_3  \\\n",
              "count  1.554298e+06  ...  1.554298e+06  1.554298e+06  1.554298e+06   \n",
              "mean   3.787763e+00  ...  9.374706e+00 -4.445267e-02 -2.175620e+00   \n",
              "std    3.945398e+00  ...  6.067489e+00  7.183548e+00  3.475628e+00   \n",
              "min   -6.193470e+01  ... -6.114200e+01 -6.190350e+01 -6.231480e+01   \n",
              "25%    1.365070e+00  ...  8.396590e+00 -2.073120e+00 -3.399390e+00   \n",
              "50%    3.663470e+00  ...  9.550020e+00 -2.252810e-01 -1.993145e+00   \n",
              "75%    6.778200e+00  ...  1.028160e+01  1.920960e+00 -5.958823e-01   \n",
              "max    6.192340e+01  ...  6.196930e+01  6.204900e+01  6.093570e+01   \n",
              "\n",
              "         ankleGyro1    ankleGyro2    ankleGyro3   ankleMagne1   ankleMagne2  \\\n",
              "count  1.554298e+06  1.554298e+06  1.554298e+06  1.554298e+06  1.554298e+06   \n",
              "mean   1.027736e-02 -3.649406e-02  5.607242e-03 -3.157962e+01  1.394841e+00   \n",
              "std    1.126197e+00  6.380780e-01  2.011908e+00  1.834688e+01  2.168353e+01   \n",
              "min   -1.416200e+01 -1.304010e+01 -1.401960e+01 -1.726240e+02 -1.379080e+02   \n",
              "25%   -2.081647e-01 -1.066462e-01 -4.416657e-01 -4.170160e+01 -1.246927e+01   \n",
              "50%    4.636280e-03 -3.977450e-03 -2.336400e-03 -3.400060e+01  7.672570e-01   \n",
              "75%    1.308070e-01  1.160640e-01  9.121635e-02 -1.789610e+01  1.782927e+01   \n",
              "max    1.742040e+01  1.358820e+01  1.448270e+01  9.155160e+01  9.369920e+01   \n",
              "\n",
              "        ankleMagne3    subject_id  \n",
              "count  1.554298e+06  1.554298e+06  \n",
              "mean   1.725137e+01  4.566578e+00  \n",
              "std    1.969368e+01  2.333375e+00  \n",
              "min   -1.027160e+02  1.000000e+00  \n",
              "25%    3.799632e+00  2.000000e+00  \n",
              "50%    1.876795e+01  5.000000e+00  \n",
              "75%    3.120910e+01  7.000000e+00  \n",
              "max    1.469000e+02  9.000000e+00  \n",
              "\n",
              "[8 rows x 43 columns]"
            ],
            "text/html": [
              "\n",
              "  <div id=\"df-40d1b895-d89b-4857-a267-9c9a3d2ba172\">\n",
              "    <div class=\"colab-df-container\">\n",
              "      <div>\n",
              "<style scoped>\n",
              "    .dataframe tbody tr th:only-of-type {\n",
              "        vertical-align: middle;\n",
              "    }\n",
              "\n",
              "    .dataframe tbody tr th {\n",
              "        vertical-align: top;\n",
              "    }\n",
              "\n",
              "    .dataframe thead th {\n",
              "        text-align: right;\n",
              "    }\n",
              "</style>\n",
              "<table border=\"1\" class=\"dataframe\">\n",
              "  <thead>\n",
              "    <tr style=\"text-align: right;\">\n",
              "      <th></th>\n",
              "      <th>timestamp</th>\n",
              "      <th>activityID</th>\n",
              "      <th>heartrate</th>\n",
              "      <th>handTemperature</th>\n",
              "      <th>handAcc16_1</th>\n",
              "      <th>handAcc16_2</th>\n",
              "      <th>handAcc16_3</th>\n",
              "      <th>handAcc6_1</th>\n",
              "      <th>handAcc6_2</th>\n",
              "      <th>handAcc6_3</th>\n",
              "      <th>...</th>\n",
              "      <th>ankleAcc6_1</th>\n",
              "      <th>ankleAcc6_2</th>\n",
              "      <th>ankleAcc6_3</th>\n",
              "      <th>ankleGyro1</th>\n",
              "      <th>ankleGyro2</th>\n",
              "      <th>ankleGyro3</th>\n",
              "      <th>ankleMagne1</th>\n",
              "      <th>ankleMagne2</th>\n",
              "      <th>ankleMagne3</th>\n",
              "      <th>subject_id</th>\n",
              "    </tr>\n",
              "  </thead>\n",
              "  <tbody>\n",
              "    <tr>\n",
              "      <th>count</th>\n",
              "      <td>1.554298e+06</td>\n",
              "      <td>1.554298e+06</td>\n",
              "      <td>1.554298e+06</td>\n",
              "      <td>1.554298e+06</td>\n",
              "      <td>1.554298e+06</td>\n",
              "      <td>1.554298e+06</td>\n",
              "      <td>1.554298e+06</td>\n",
              "      <td>1.554298e+06</td>\n",
              "      <td>1.554298e+06</td>\n",
              "      <td>1.554298e+06</td>\n",
              "      <td>...</td>\n",
              "      <td>1.554298e+06</td>\n",
              "      <td>1.554298e+06</td>\n",
              "      <td>1.554298e+06</td>\n",
              "      <td>1.554298e+06</td>\n",
              "      <td>1.554298e+06</td>\n",
              "      <td>1.554298e+06</td>\n",
              "      <td>1.554298e+06</td>\n",
              "      <td>1.554298e+06</td>\n",
              "      <td>1.554298e+06</td>\n",
              "      <td>1.554298e+06</td>\n",
              "    </tr>\n",
              "    <tr>\n",
              "      <th>mean</th>\n",
              "      <td>1.705049e+03</td>\n",
              "      <td>8.080534e+00</td>\n",
              "      <td>1.074758e+02</td>\n",
              "      <td>3.275138e+01</td>\n",
              "      <td>-4.953526e+00</td>\n",
              "      <td>3.581113e+00</td>\n",
              "      <td>3.603514e+00</td>\n",
              "      <td>-4.886385e+00</td>\n",
              "      <td>3.570863e+00</td>\n",
              "      <td>3.787763e+00</td>\n",
              "      <td>...</td>\n",
              "      <td>9.374706e+00</td>\n",
              "      <td>-4.445267e-02</td>\n",
              "      <td>-2.175620e+00</td>\n",
              "      <td>1.027736e-02</td>\n",
              "      <td>-3.649406e-02</td>\n",
              "      <td>5.607242e-03</td>\n",
              "      <td>-3.157962e+01</td>\n",
              "      <td>1.394841e+00</td>\n",
              "      <td>1.725137e+01</td>\n",
              "      <td>4.566578e+00</td>\n",
              "    </tr>\n",
              "    <tr>\n",
              "      <th>std</th>\n",
              "      <td>1.093592e+03</td>\n",
              "      <td>6.175064e+00</td>\n",
              "      <td>2.699031e+01</td>\n",
              "      <td>1.794207e+00</td>\n",
              "      <td>6.239143e+00</td>\n",
              "      <td>6.886169e+00</td>\n",
              "      <td>3.958145e+00</td>\n",
              "      <td>6.245060e+00</td>\n",
              "      <td>6.585066e+00</td>\n",
              "      <td>3.945398e+00</td>\n",
              "      <td>...</td>\n",
              "      <td>6.067489e+00</td>\n",
              "      <td>7.183548e+00</td>\n",
              "      <td>3.475628e+00</td>\n",
              "      <td>1.126197e+00</td>\n",
              "      <td>6.380780e-01</td>\n",
              "      <td>2.011908e+00</td>\n",
              "      <td>1.834688e+01</td>\n",
              "      <td>2.168353e+01</td>\n",
              "      <td>1.969368e+01</td>\n",
              "      <td>2.333375e+00</td>\n",
              "    </tr>\n",
              "    <tr>\n",
              "      <th>min</th>\n",
              "      <td>3.120000e+01</td>\n",
              "      <td>1.000000e+00</td>\n",
              "      <td>5.700000e+01</td>\n",
              "      <td>2.487500e+01</td>\n",
              "      <td>-1.453670e+02</td>\n",
              "      <td>-1.043010e+02</td>\n",
              "      <td>-1.014520e+02</td>\n",
              "      <td>-6.121470e+01</td>\n",
              "      <td>-6.184170e+01</td>\n",
              "      <td>-6.193470e+01</td>\n",
              "      <td>...</td>\n",
              "      <td>-6.114200e+01</td>\n",
              "      <td>-6.190350e+01</td>\n",
              "      <td>-6.231480e+01</td>\n",
              "      <td>-1.416200e+01</td>\n",
              "      <td>-1.304010e+01</td>\n",
              "      <td>-1.401960e+01</td>\n",
              "      <td>-1.726240e+02</td>\n",
              "      <td>-1.379080e+02</td>\n",
              "      <td>-1.027160e+02</td>\n",
              "      <td>1.000000e+00</td>\n",
              "    </tr>\n",
              "    <tr>\n",
              "      <th>25%</th>\n",
              "      <td>7.442925e+02</td>\n",
              "      <td>3.000000e+00</td>\n",
              "      <td>8.600000e+01</td>\n",
              "      <td>3.168750e+01</td>\n",
              "      <td>-8.970020e+00</td>\n",
              "      <td>1.057830e+00</td>\n",
              "      <td>1.162090e+00</td>\n",
              "      <td>-8.867070e+00</td>\n",
              "      <td>1.055562e+00</td>\n",
              "      <td>1.365070e+00</td>\n",
              "      <td>...</td>\n",
              "      <td>8.396590e+00</td>\n",
              "      <td>-2.073120e+00</td>\n",
              "      <td>-3.399390e+00</td>\n",
              "      <td>-2.081647e-01</td>\n",
              "      <td>-1.066462e-01</td>\n",
              "      <td>-4.416657e-01</td>\n",
              "      <td>-4.170160e+01</td>\n",
              "      <td>-1.246927e+01</td>\n",
              "      <td>3.799632e+00</td>\n",
              "      <td>2.000000e+00</td>\n",
              "    </tr>\n",
              "    <tr>\n",
              "      <th>50%</th>\n",
              "      <td>1.480090e+03</td>\n",
              "      <td>6.000000e+00</td>\n",
              "      <td>1.040000e+02</td>\n",
              "      <td>3.312500e+01</td>\n",
              "      <td>-5.449130e+00</td>\n",
              "      <td>3.525300e+00</td>\n",
              "      <td>3.432840e+00</td>\n",
              "      <td>-5.377104e+00</td>\n",
              "      <td>3.566820e+00</td>\n",
              "      <td>3.663470e+00</td>\n",
              "      <td>...</td>\n",
              "      <td>9.550020e+00</td>\n",
              "      <td>-2.252810e-01</td>\n",
              "      <td>-1.993145e+00</td>\n",
              "      <td>4.636280e-03</td>\n",
              "      <td>-3.977450e-03</td>\n",
              "      <td>-2.336400e-03</td>\n",
              "      <td>-3.400060e+01</td>\n",
              "      <td>7.672570e-01</td>\n",
              "      <td>1.876795e+01</td>\n",
              "      <td>5.000000e+00</td>\n",
              "    </tr>\n",
              "    <tr>\n",
              "      <th>75%</th>\n",
              "      <td>2.664000e+03</td>\n",
              "      <td>1.300000e+01</td>\n",
              "      <td>1.240000e+02</td>\n",
              "      <td>3.406250e+01</td>\n",
              "      <td>-9.581007e-01</td>\n",
              "      <td>6.450508e+00</td>\n",
              "      <td>6.532445e+00</td>\n",
              "      <td>-9.061720e-01</td>\n",
              "      <td>6.458267e+00</td>\n",
              "      <td>6.778200e+00</td>\n",
              "      <td>...</td>\n",
              "      <td>1.028160e+01</td>\n",
              "      <td>1.920960e+00</td>\n",
              "      <td>-5.958823e-01</td>\n",
              "      <td>1.308070e-01</td>\n",
              "      <td>1.160640e-01</td>\n",
              "      <td>9.121635e-02</td>\n",
              "      <td>-1.789610e+01</td>\n",
              "      <td>1.782927e+01</td>\n",
              "      <td>3.120910e+01</td>\n",
              "      <td>7.000000e+00</td>\n",
              "    </tr>\n",
              "    <tr>\n",
              "      <th>max</th>\n",
              "      <td>4.245680e+03</td>\n",
              "      <td>2.400000e+01</td>\n",
              "      <td>2.020000e+02</td>\n",
              "      <td>3.550000e+01</td>\n",
              "      <td>6.285960e+01</td>\n",
              "      <td>1.556990e+02</td>\n",
              "      <td>1.577600e+02</td>\n",
              "      <td>5.282140e+01</td>\n",
              "      <td>6.225980e+01</td>\n",
              "      <td>6.192340e+01</td>\n",
              "      <td>...</td>\n",
              "      <td>6.196930e+01</td>\n",
              "      <td>6.204900e+01</td>\n",
              "      <td>6.093570e+01</td>\n",
              "      <td>1.742040e+01</td>\n",
              "      <td>1.358820e+01</td>\n",
              "      <td>1.448270e+01</td>\n",
              "      <td>9.155160e+01</td>\n",
              "      <td>9.369920e+01</td>\n",
              "      <td>1.469000e+02</td>\n",
              "      <td>9.000000e+00</td>\n",
              "    </tr>\n",
              "  </tbody>\n",
              "</table>\n",
              "<p>8 rows × 43 columns</p>\n",
              "</div>\n",
              "      <button class=\"colab-df-convert\" onclick=\"convertToInteractive('df-40d1b895-d89b-4857-a267-9c9a3d2ba172')\"\n",
              "              title=\"Convert this dataframe to an interactive table.\"\n",
              "              style=\"display:none;\">\n",
              "        \n",
              "  <svg xmlns=\"http://www.w3.org/2000/svg\" height=\"24px\"viewBox=\"0 0 24 24\"\n",
              "       width=\"24px\">\n",
              "    <path d=\"M0 0h24v24H0V0z\" fill=\"none\"/>\n",
              "    <path d=\"M18.56 5.44l.94 2.06.94-2.06 2.06-.94-2.06-.94-.94-2.06-.94 2.06-2.06.94zm-11 1L8.5 8.5l.94-2.06 2.06-.94-2.06-.94L8.5 2.5l-.94 2.06-2.06.94zm10 10l.94 2.06.94-2.06 2.06-.94-2.06-.94-.94-2.06-.94 2.06-2.06.94z\"/><path d=\"M17.41 7.96l-1.37-1.37c-.4-.4-.92-.59-1.43-.59-.52 0-1.04.2-1.43.59L10.3 9.45l-7.72 7.72c-.78.78-.78 2.05 0 2.83L4 21.41c.39.39.9.59 1.41.59.51 0 1.02-.2 1.41-.59l7.78-7.78 2.81-2.81c.8-.78.8-2.07 0-2.86zM5.41 20L4 18.59l7.72-7.72 1.47 1.35L5.41 20z\"/>\n",
              "  </svg>\n",
              "      </button>\n",
              "      \n",
              "  <style>\n",
              "    .colab-df-container {\n",
              "      display:flex;\n",
              "      flex-wrap:wrap;\n",
              "      gap: 12px;\n",
              "    }\n",
              "\n",
              "    .colab-df-convert {\n",
              "      background-color: #E8F0FE;\n",
              "      border: none;\n",
              "      border-radius: 50%;\n",
              "      cursor: pointer;\n",
              "      display: none;\n",
              "      fill: #1967D2;\n",
              "      height: 32px;\n",
              "      padding: 0 0 0 0;\n",
              "      width: 32px;\n",
              "    }\n",
              "\n",
              "    .colab-df-convert:hover {\n",
              "      background-color: #E2EBFA;\n",
              "      box-shadow: 0px 1px 2px rgba(60, 64, 67, 0.3), 0px 1px 3px 1px rgba(60, 64, 67, 0.15);\n",
              "      fill: #174EA6;\n",
              "    }\n",
              "\n",
              "    [theme=dark] .colab-df-convert {\n",
              "      background-color: #3B4455;\n",
              "      fill: #D2E3FC;\n",
              "    }\n",
              "\n",
              "    [theme=dark] .colab-df-convert:hover {\n",
              "      background-color: #434B5C;\n",
              "      box-shadow: 0px 1px 3px 1px rgba(0, 0, 0, 0.15);\n",
              "      filter: drop-shadow(0px 1px 2px rgba(0, 0, 0, 0.3));\n",
              "      fill: #FFFFFF;\n",
              "    }\n",
              "  </style>\n",
              "\n",
              "      <script>\n",
              "        const buttonEl =\n",
              "          document.querySelector('#df-40d1b895-d89b-4857-a267-9c9a3d2ba172 button.colab-df-convert');\n",
              "        buttonEl.style.display =\n",
              "          google.colab.kernel.accessAllowed ? 'block' : 'none';\n",
              "\n",
              "        async function convertToInteractive(key) {\n",
              "          const element = document.querySelector('#df-40d1b895-d89b-4857-a267-9c9a3d2ba172');\n",
              "          const dataTable =\n",
              "            await google.colab.kernel.invokeFunction('convertToInteractive',\n",
              "                                                     [key], {});\n",
              "          if (!dataTable) return;\n",
              "\n",
              "          const docLinkHtml = 'Like what you see? Visit the ' +\n",
              "            '<a target=\"_blank\" href=https://colab.research.google.com/notebooks/data_table.ipynb>data table notebook</a>'\n",
              "            + ' to learn more about interactive tables.';\n",
              "          element.innerHTML = '';\n",
              "          dataTable['output_type'] = 'display_data';\n",
              "          await google.colab.output.renderOutput(dataTable, element);\n",
              "          const docLink = document.createElement('div');\n",
              "          docLink.innerHTML = docLinkHtml;\n",
              "          element.appendChild(docLink);\n",
              "        }\n",
              "      </script>\n",
              "    </div>\n",
              "  </div>\n",
              "  "
            ]
          },
          "metadata": {},
          "execution_count": 15
        }
      ]
    },
    {
      "cell_type": "code",
      "source": [
        "import seaborn as sns\n",
        "\n",
        "fig, ax = plt.subplots(figsize=(4,4))\n",
        "plt.title(\"Heart Rate \")\n",
        "ax = sns.boxplot(y=train_df[\"heartrate\"])"
      ],
      "metadata": {
        "colab": {
          "base_uri": "https://localhost:8080/",
          "height": 268
        },
        "id": "St8lRMHUuhFL",
        "outputId": "a0fdc704-c4cf-4dd5-a682-db5d04ca12b1"
      },
      "execution_count": 16,
      "outputs": [
        {
          "output_type": "display_data",
          "data": {
            "text/plain": [
              "<Figure size 288x288 with 1 Axes>"
            ],
            "image/png": "[encoded data removed]"
          },
          "metadata": {
            "needs_background": "light"
          }
        }
      ]
    },
    {
      "cell_type": "code",
      "source": [
        "df_hr_act = train_df['heartrate'].groupby(train_df['activityID']).mean()\n",
        "df_hr_act.index = df_hr_act.index.map(activityIDdict)\n",
        "df_hr_act.plot(kind='bar')"
      ],
      "metadata": {
        "colab": {
          "base_uri": "https://localhost:8080/",
          "height": 377
        },
        "id": "_3lf5DZYujq3",
        "outputId": "7d0bb9ef-e301-4367-c64d-23314616b36c"
      },
      "execution_count": 17,
      "outputs": [
        {
          "output_type": "execute_result",
          "data": {
            "text/plain": [
              "<matplotlib.axes._subplots.AxesSubplot at 0x7f2e549f74d0>"
            ]
          },
          "metadata": {},
          "execution_count": 17
        },
        {
          "output_type": "display_data",
          "data": {
            "text/plain": [
              "<Figure size 432x288 with 1 Axes>"
            ],
            "image/png": "[encoded data removed]"
          },
          "metadata": {
            "needs_background": "light"
          }
        }
      ]
    },
    {
      "cell_type": "code",
      "source": [
        "from pandas.plotting import scatter_matrix\n",
        "df_corr = train_df.corr()\n",
        "df_corr = df_corr.drop(['activityID'], axis = 1)\n",
        "\n",
        "f, ax = plt.subplots(figsize=(15, 10))\n",
        "sns.heatmap(df_corr, mask=np.zeros_like(df_corr, dtype=np.bool), cmap = \"BrBG\",ax=ax)\n",
        "plt.show()"
      ],
      "metadata": {
        "colab": {
          "base_uri": "https://localhost:8080/",
          "height": 748
        },
        "id": "h1TeZgSGul2c",
        "outputId": "4fc2b69a-3411-4c53-96c4-57731fe174c3"
      },
      "execution_count": 18,
      "outputs": [
        {
          "output_type": "stream",
          "name": "stderr",
          "text": [
            "/usr/local/lib/python3.7/dist-packages/ipykernel_launcher.py:6: DeprecationWarning: `np.bool` is a deprecated alias for the builtin `bool`. To silence this warning, use `bool` by itself. Doing this will not modify any behavior and is safe. If you specifically wanted the numpy scalar type, use `np.bool_` here.\n",
            "Deprecated in NumPy 1.20; for more details and guidance: https://numpy.org/devdocs/release/1.20.0-notes.html#deprecations\n",
            "  \n"
          ]
        },
        {
          "output_type": "display_data",
          "data": {
            "text/plain": [
              "<Figure size 1080x720 with 2 Axes>"
            ],
            "image/png": "[encoded data removed]"
          },
          "metadata": {
            "needs_background": "light"
          }
        }
      ]
    },
    {
      "cell_type": "markdown",
      "source": [
        "## **Modelling**"
      ],
      "metadata": {
        "id": "lv5ba_Ywux6i"
      }
    },
    {
      "cell_type": "code",
      "source": [
        "from sklearn.tree import DecisionTreeClassifier\n",
        "from sklearn.model_selection import train_test_split,cross_val_score,StratifiedShuffleSplit\n",
        "from sklearn.metrics import precision_score,recall_score, f1_score, confusion_matrix,roc_auc_score,roc_curve, accuracy_score\n",
        "from sklearn.preprocessing import StandardScaler, RobustScaler\n",
        "from sklearn.decomposition import PCA, TruncatedSVD\n",
        "from sklearn.linear_model import LogisticRegression\n",
        "from sklearn.neighbors import KNeighborsClassifier\n",
        "from sklearn.svm import SVC"
      ],
      "metadata": {
        "id": "gqHfnE_Huzma"
      },
      "execution_count": 19,
      "outputs": []
    },
    {
      "cell_type": "code",
      "source": [
        "train_df = train_df.drop([\"timestamp\", \"subject_id\"],1)"
      ],
      "metadata": {
        "colab": {
          "base_uri": "https://localhost:8080/"
        },
        "id": "Ofg72MMeu39T",
        "outputId": "b21a7ec0-675e-4224-dffa-c2acd8e528f1"
      },
      "execution_count": 20,
      "outputs": [
        {
          "output_type": "stream",
          "name": "stderr",
          "text": [
            "/usr/local/lib/python3.7/dist-packages/ipykernel_launcher.py:1: FutureWarning: In a future version of pandas all arguments of DataFrame.drop except for the argument 'labels' will be keyword-only\n",
            "  \"\"\"Entry point for launching an IPython kernel.\n"
          ]
        }
      ]
    },
    {
      "cell_type": "code",
      "source": [
        "from sklearn import preprocessing\n",
        "from sklearn.preprocessing import StandardScaler,RobustScaler\n",
        "\n",
        "scaler = RobustScaler()\n",
        "df_scaled = train_df.copy()\n",
        "df_scaled_test = test_df.copy()\n",
        "\n",
        "df_scaled.iloc[:,1:41] = scaler.fit_transform(df_scaled.iloc[:,1:41])\n",
        "df_scaled_test.iloc[:,1:41] = scaler.fit_transform(df_scaled_test.iloc[:,1:41])\n",
        "\n",
        "df_scaled.head()"
      ],
      "metadata": {
        "colab": {
          "base_uri": "https://localhost:8080/",
          "height": 300
        },
        "id": "vGNqOvafu6qR",
        "outputId": "8890b2a5-32ba-4f52-f14b-d2cb7a464b29"
      },
      "execution_count": 21,
      "outputs": [
        {
          "output_type": "execute_result",
          "data": {
            "text/plain": [
              "         activityID  heartrate  handTemperature  handAcc16_1  handAcc16_2  \\\n",
              "312921            3  -0.368421         0.447368    -0.384512     0.220069   \n",
              "141735           12   1.681818         0.236842    -0.721708    -0.103407   \n",
              "1191085          24   2.026316         0.289474     0.457975     0.035504   \n",
              "1206914           1  -1.105263         0.131579     1.290689    -0.693932   \n",
              "1710520           2  -0.657895         0.500000     0.434876    -2.413007   \n",
              "\n",
              "         handAcc16_3  handAcc6_1  handAcc6_2  handAcc6_3  handGyro1  ...  \\\n",
              "312921     -0.572507   -0.361436    0.256971   -0.530520  -0.012729  ...   \n",
              "141735     -0.206281   -0.625117   -0.108947   -0.253147  -0.868631  ...   \n",
              "1191085    -2.015047    0.603512    0.072534   -1.452154  -5.190897  ...   \n",
              "1206914     0.901352    1.320385   -0.723956    0.911347   0.065061  ...   \n",
              "1710520    -0.473610    0.449008   -2.412753   -0.481267  -0.015890  ...   \n",
              "\n",
              "         ankleAcc16_3  ankleAcc6_1  ankleAcc6_2  ankleAcc6_3  ankleGyro1  \\\n",
              "312921       0.321939     0.088339    -0.322152     0.351800    0.220183   \n",
              "141735       0.020813     0.842160    -0.269519    -0.185601   -0.829881   \n",
              "1191085      1.905139    -7.260794    -0.946788     1.482238    5.524513   \n",
              "1206914     -0.351884    -5.128883    -2.300004    -0.300736   -0.037313   \n",
              "1710520     -0.107595    -0.192439     0.783229    -0.057162    0.016440   \n",
              "\n",
              "         ankleGyro2  ankleGyro3  ankleMagne1  ankleMagne2  ankleMagne3  \n",
              "312921     0.001165   -0.139354     0.641700    -0.582432     0.658114  \n",
              "141735     3.024896   -0.265261    -0.744416     1.091512    -0.924482  \n",
              "1191085   -0.773631   -1.222988    -0.447203    -0.428537    -0.674781  \n",
              "1206914    0.027350    0.037709     0.700615     0.847494    -0.859194  \n",
              "1710520    0.068780    0.058657     0.611770     0.497042     0.263863  \n",
              "\n",
              "[5 rows x 41 columns]"
            ],
            "text/html": [
              "\n",
              "  <div id=\"df-86bd958d-f5a8-4209-ac6d-71c69a9a2bb1\">\n",
              "    <div class=\"colab-df-container\">\n",
              "      <div>\n",
              "<style scoped>\n",
              "    .dataframe tbody tr th:only-of-type {\n",
              "        vertical-align: middle;\n",
              "    }\n",
              "\n",
              "    .dataframe tbody tr th {\n",
              "        vertical-align: top;\n",
              "    }\n",
              "\n",
              "    .dataframe thead th {\n",
              "        text-align: right;\n",
              "    }\n",
              "</style>\n",
              "<table border=\"1\" class=\"dataframe\">\n",
              "  <thead>\n",
              "    <tr style=\"text-align: right;\">\n",
              "      <th></th>\n",
              "      <th>activityID</th>\n",
              "      <th>heartrate</th>\n",
              "      <th>handTemperature</th>\n",
              "      <th>handAcc16_1</th>\n",
              "      <th>handAcc16_2</th>\n",
              "      <th>handAcc16_3</th>\n",
              "      <th>handAcc6_1</th>\n",
              "      <th>handAcc6_2</th>\n",
              "      <th>handAcc6_3</th>\n",
              "      <th>handGyro1</th>\n",
              "      <th>...</th>\n",
              "      <th>ankleAcc16_3</th>\n",
              "      <th>ankleAcc6_1</th>\n",
              "      <th>ankleAcc6_2</th>\n",
              "      <th>ankleAcc6_3</th>\n",
              "      <th>ankleGyro1</th>\n",
              "      <th>ankleGyro2</th>\n",
              "      <th>ankleGyro3</th>\n",
              "      <th>ankleMagne1</th>\n",
              "      <th>ankleMagne2</th>\n",
              "      <th>ankleMagne3</th>\n",
              "    </tr>\n",
              "  </thead>\n",
              "  <tbody>\n",
              "    <tr>\n",
              "      <th>312921</th>\n",
              "      <td>3</td>\n",
              "      <td>-0.368421</td>\n",
              "      <td>0.447368</td>\n",
              "      <td>-0.384512</td>\n",
              "      <td>0.220069</td>\n",
              "      <td>-0.572507</td>\n",
              "      <td>-0.361436</td>\n",
              "      <td>0.256971</td>\n",
              "      <td>-0.530520</td>\n",
              "      <td>-0.012729</td>\n",
              "      <td>...</td>\n",
              "      <td>0.321939</td>\n",
              "      <td>0.088339</td>\n",
              "      <td>-0.322152</td>\n",
              "      <td>0.351800</td>\n",
              "      <td>0.220183</td>\n",
              "      <td>0.001165</td>\n",
              "      <td>-0.139354</td>\n",
              "      <td>0.641700</td>\n",
              "      <td>-0.582432</td>\n",
              "      <td>0.658114</td>\n",
              "    </tr>\n",
              "    <tr>\n",
              "      <th>141735</th>\n",
              "      <td>12</td>\n",
              "      <td>1.681818</td>\n",
              "      <td>0.236842</td>\n",
              "      <td>-0.721708</td>\n",
              "      <td>-0.103407</td>\n",
              "      <td>-0.206281</td>\n",
              "      <td>-0.625117</td>\n",
              "      <td>-0.108947</td>\n",
              "      <td>-0.253147</td>\n",
              "      <td>-0.868631</td>\n",
              "      <td>...</td>\n",
              "      <td>0.020813</td>\n",
              "      <td>0.842160</td>\n",
              "      <td>-0.269519</td>\n",
              "      <td>-0.185601</td>\n",
              "      <td>-0.829881</td>\n",
              "      <td>3.024896</td>\n",
              "      <td>-0.265261</td>\n",
              "      <td>-0.744416</td>\n",
              "      <td>1.091512</td>\n",
              "      <td>-0.924482</td>\n",
              "    </tr>\n",
              "    <tr>\n",
              "      <th>1191085</th>\n",
              "      <td>24</td>\n",
              "      <td>2.026316</td>\n",
              "      <td>0.289474</td>\n",
              "      <td>0.457975</td>\n",
              "      <td>0.035504</td>\n",
              "      <td>-2.015047</td>\n",
              "      <td>0.603512</td>\n",
              "      <td>0.072534</td>\n",
              "      <td>-1.452154</td>\n",
              "      <td>-5.190897</td>\n",
              "      <td>...</td>\n",
              "      <td>1.905139</td>\n",
              "      <td>-7.260794</td>\n",
              "      <td>-0.946788</td>\n",
              "      <td>1.482238</td>\n",
              "      <td>5.524513</td>\n",
              "      <td>-0.773631</td>\n",
              "      <td>-1.222988</td>\n",
              "      <td>-0.447203</td>\n",
              "      <td>-0.428537</td>\n",
              "      <td>-0.674781</td>\n",
              "    </tr>\n",
              "    <tr>\n",
              "      <th>1206914</th>\n",
              "      <td>1</td>\n",
              "      <td>-1.105263</td>\n",
              "      <td>0.131579</td>\n",
              "      <td>1.290689</td>\n",
              "      <td>-0.693932</td>\n",
              "      <td>0.901352</td>\n",
              "      <td>1.320385</td>\n",
              "      <td>-0.723956</td>\n",
              "      <td>0.911347</td>\n",
              "      <td>0.065061</td>\n",
              "      <td>...</td>\n",
              "      <td>-0.351884</td>\n",
              "      <td>-5.128883</td>\n",
              "      <td>-2.300004</td>\n",
              "      <td>-0.300736</td>\n",
              "      <td>-0.037313</td>\n",
              "      <td>0.027350</td>\n",
              "      <td>0.037709</td>\n",
              "      <td>0.700615</td>\n",
              "      <td>0.847494</td>\n",
              "      <td>-0.859194</td>\n",
              "    </tr>\n",
              "    <tr>\n",
              "      <th>1710520</th>\n",
              "      <td>2</td>\n",
              "      <td>-0.657895</td>\n",
              "      <td>0.500000</td>\n",
              "      <td>0.434876</td>\n",
              "      <td>-2.413007</td>\n",
              "      <td>-0.473610</td>\n",
              "      <td>0.449008</td>\n",
              "      <td>-2.412753</td>\n",
              "      <td>-0.481267</td>\n",
              "      <td>-0.015890</td>\n",
              "      <td>...</td>\n",
              "      <td>-0.107595</td>\n",
              "      <td>-0.192439</td>\n",
              "      <td>0.783229</td>\n",
              "      <td>-0.057162</td>\n",
              "      <td>0.016440</td>\n",
              "      <td>0.068780</td>\n",
              "      <td>0.058657</td>\n",
              "      <td>0.611770</td>\n",
              "      <td>0.497042</td>\n",
              "      <td>0.263863</td>\n",
              "    </tr>\n",
              "  </tbody>\n",
              "</table>\n",
              "<p>5 rows × 41 columns</p>\n",
              "</div>\n",
              "      <button class=\"colab-df-convert\" onclick=\"convertToInteractive('df-86bd958d-f5a8-4209-ac6d-71c69a9a2bb1')\"\n",
              "              title=\"Convert this dataframe to an interactive table.\"\n",
              "              style=\"display:none;\">\n",
              "        \n",
              "  <svg xmlns=\"http://www.w3.org/2000/svg\" height=\"24px\"viewBox=\"0 0 24 24\"\n",
              "       width=\"24px\">\n",
              "    <path d=\"M0 0h24v24H0V0z\" fill=\"none\"/>\n",
              "    <path d=\"M18.56 5.44l.94 2.06.94-2.06 2.06-.94-2.06-.94-.94-2.06-.94 2.06-2.06.94zm-11 1L8.5 8.5l.94-2.06 2.06-.94-2.06-.94L8.5 2.5l-.94 2.06-2.06.94zm10 10l.94 2.06.94-2.06 2.06-.94-2.06-.94-.94-2.06-.94 2.06-2.06.94z\"/><path d=\"M17.41 7.96l-1.37-1.37c-.4-.4-.92-.59-1.43-.59-.52 0-1.04.2-1.43.59L10.3 9.45l-7.72 7.72c-.78.78-.78 2.05 0 2.83L4 21.41c.39.39.9.59 1.41.59.51 0 1.02-.2 1.41-.59l7.78-7.78 2.81-2.81c.8-.78.8-2.07 0-2.86zM5.41 20L4 18.59l7.72-7.72 1.47 1.35L5.41 20z\"/>\n",
              "  </svg>\n",
              "      </button>\n",
              "      \n",
              "  <style>\n",
              "    .colab-df-container {\n",
              "      display:flex;\n",
              "      flex-wrap:wrap;\n",
              "      gap: 12px;\n",
              "    }\n",
              "\n",
              "    .colab-df-convert {\n",
              "      background-color: #E8F0FE;\n",
              "      border: none;\n",
              "      border-radius: 50%;\n",
              "      cursor: pointer;\n",
              "      display: none;\n",
              "      fill: #1967D2;\n",
              "      height: 32px;\n",
              "      padding: 0 0 0 0;\n",
              "      width: 32px;\n",
              "    }\n",
              "\n",
              "    .colab-df-convert:hover {\n",
              "      background-color: #E2EBFA;\n",
              "      box-shadow: 0px 1px 2px rgba(60, 64, 67, 0.3), 0px 1px 3px 1px rgba(60, 64, 67, 0.15);\n",
              "      fill: #174EA6;\n",
              "    }\n",
              "\n",
              "    [theme=dark] .colab-df-convert {\n",
              "      background-color: #3B4455;\n",
              "      fill: #D2E3FC;\n",
              "    }\n",
              "\n",
              "    [theme=dark] .colab-df-convert:hover {\n",
              "      background-color: #434B5C;\n",
              "      box-shadow: 0px 1px 3px 1px rgba(0, 0, 0, 0.15);\n",
              "      filter: drop-shadow(0px 1px 2px rgba(0, 0, 0, 0.3));\n",
              "      fill: #FFFFFF;\n",
              "    }\n",
              "  </style>\n",
              "\n",
              "      <script>\n",
              "        const buttonEl =\n",
              "          document.querySelector('#df-86bd958d-f5a8-4209-ac6d-71c69a9a2bb1 button.colab-df-convert');\n",
              "        buttonEl.style.display =\n",
              "          google.colab.kernel.accessAllowed ? 'block' : 'none';\n",
              "\n",
              "        async function convertToInteractive(key) {\n",
              "          const element = document.querySelector('#df-86bd958d-f5a8-4209-ac6d-71c69a9a2bb1');\n",
              "          const dataTable =\n",
              "            await google.colab.kernel.invokeFunction('convertToInteractive',\n",
              "                                                     [key], {});\n",
              "          if (!dataTable) return;\n",
              "\n",
              "          const docLinkHtml = 'Like what you see? Visit the ' +\n",
              "            '<a target=\"_blank\" href=https://colab.research.google.com/notebooks/data_table.ipynb>data table notebook</a>'\n",
              "            + ' to learn more about interactive tables.';\n",
              "          element.innerHTML = '';\n",
              "          dataTable['output_type'] = 'display_data';\n",
              "          await google.colab.output.renderOutput(dataTable, element);\n",
              "          const docLink = document.createElement('div');\n",
              "          docLink.innerHTML = docLinkHtml;\n",
              "          element.appendChild(docLink);\n",
              "        }\n",
              "      </script>\n",
              "    </div>\n",
              "  </div>\n",
              "  "
            ]
          },
          "metadata": {},
          "execution_count": 21
        }
      ]
    },
    {
      "cell_type": "code",
      "source": [
        "X_train = df_scaled.drop('activityID', axis=1)  #.values\n",
        "y_train = df_scaled['activityID'] #.values\n",
        "\n",
        "X_test = df_scaled.drop('activityID', axis=1) #.values\n",
        "y_test = df_scaled['activityID'] #.values"
      ],
      "metadata": {
        "id": "VH32_Wuku_C7"
      },
      "execution_count": 22,
      "outputs": []
    },
    {
      "cell_type": "markdown",
      "source": [
        "## **Dimensionality Reduction using Principal Component Analysis**"
      ],
      "metadata": {
        "id": "tZfJYAy7vEA0"
      }
    },
    {
      "cell_type": "code",
      "source": [
        "from sklearn.decomposition import PCA\n",
        "pca = PCA()\n",
        "pca.fit(X_train)\n",
        "var= pca.explained_variance_ratio_\n",
        "var1=np.cumsum(np.round(pca.explained_variance_ratio_, decimals=4)*100)\n",
        "\n",
        "plt.title(\"PCA Variance against num of Componmnets\")\n",
        "plt.ylabel(\"Variance %\")\n",
        "plt.xlabel(\"Number of componments\")\n",
        "l = plt.axhline(94, color=\"red\")\n",
        "\n",
        "plt.plot(var1)\n",
        "plt.grid()"
      ],
      "metadata": {
        "colab": {
          "base_uri": "https://localhost:8080/",
          "height": 295
        },
        "id": "kWWQ8nC7vDIg",
        "outputId": "88443831-374b-444f-e4fd-351e2d66b8e5"
      },
      "execution_count": 23,
      "outputs": [
        {
          "output_type": "display_data",
          "data": {
            "text/plain": [
              "<Figure size 432x288 with 1 Axes>"
            ],
            "image/png": "[encoded data removed]"
          },
          "metadata": {
            "needs_background": "light"
          }
        }
      ]
    },
    {
      "cell_type": "code",
      "source": [
        "pca = PCA(n_components=17)\n",
        "X_train=pca.fit_transform(X_train)\n",
        "X_test=pca.fit_transform(X_test)"
      ],
      "metadata": {
        "id": "DdR1VnpEvRwP"
      },
      "execution_count": 24,
      "outputs": []
    },
    {
      "cell_type": "code",
      "source": [
        "print(X_test)"
      ],
      "metadata": {
        "colab": {
          "base_uri": "https://localhost:8080/"
        },
        "id": "nFZg61w5y4sx",
        "outputId": "ee2848c0-7945-4ee7-87ae-754d09bfefad"
      },
      "execution_count": 25,
      "outputs": [
        {
          "output_type": "stream",
          "name": "stdout",
          "text": [
            "[[-4.12293790e-01  6.27140026e-02 -7.89446215e-03 ... -8.08633305e-01\n",
            "  -2.82383206e-02 -3.22764370e-01]\n",
            " [-1.99270009e+00  5.47873372e-01 -2.36819694e+00 ... -6.45038753e-01\n",
            "   3.57515286e-01 -1.37248152e-01]\n",
            " [ 9.95863843e+00  9.59549138e-01  6.99804057e+00 ... -1.24291260e+00\n",
            "   6.12378912e-02 -3.64396238e-01]\n",
            " ...\n",
            " [ 1.01268119e-01  1.12094892e-01 -5.03203452e-01 ... -1.28973808e+00\n",
            "  -6.97621216e-02 -1.36526583e+00]\n",
            " [-3.65091613e+00  4.80447140e-01  7.02198290e-01 ... -3.00745278e+00\n",
            "  -8.77512855e-01 -1.33113962e+00]\n",
            " [-1.92952626e-01  2.10180824e-02  7.32289783e-02 ...  7.65248009e-01\n",
            "   3.32399268e-02 -5.70667775e-01]]\n"
          ]
        }
      ]
    },
    {
      "cell_type": "code",
      "source": [
        "print(X_train[0])"
      ],
      "metadata": {
        "colab": {
          "base_uri": "https://localhost:8080/"
        },
        "id": "12iOfgPcy_NF",
        "outputId": "12f1d989-605b-46b7-92c8-e144af74ae8e"
      },
      "execution_count": 26,
      "outputs": [
        {
          "output_type": "stream",
          "name": "stdout",
          "text": [
            "[-0.41229378  0.06271396 -0.00789398  0.05519913  0.1795141   0.26749841\n",
            " -0.06973432 -1.26539089  0.38358294 -0.38664338 -0.59477128  0.10852914\n",
            " -0.33451887 -0.15090781 -0.80885375 -0.02819719 -0.3233438 ]\n"
          ]
        }
      ]
    },
    {
      "cell_type": "markdown",
      "source": [
        "## **Training the Model**\n",
        "\n",
        "Decision Tree Classifier : By constructing a decision tree, the decision tree classifier builds the classification model. Each node in the tree represents a test on an attribute, and each branch descending from that node represents one of the property's possible values. \n",
        "\n",
        "Logistic Regression : This algorithm is a simple algorithm that can be used for binary/multivariate classification tasks. The result of it is a probability that a data point is part of a class."
      ],
      "metadata": {
        "id": "_Oxp8KwIxoqk"
      }
    },
    {
      "cell_type": "code",
      "source": [
        "def get_metrics (y_true,y_pred):\n",
        "    acc = accuracy_score(y_true, y_pred)\n",
        "    err = 1-acc\n",
        "    p = precision_score(y_true, y_pred,average=None).mean()\n",
        "    r = recall_score(y_true, y_pred, average=None).mean()\n",
        "    f1 = f1_score(y_true, y_pred, average=None).mean()\n",
        "   \n",
        "    print(\"Accuracy: \",acc)\n",
        "    print(\"Error: \",acc)\n",
        "    print(\"Precision\", p)\n",
        "    print(\"Recall\", r)\n",
        "    print(\"F1\", f1)\n",
        "    \n",
        "\n",
        "log_reg = LogisticRegression()\n",
        "log_reg.fit(X=X_train, y=y_train )\n",
        "y_pred_lr = log_reg.predict(X_test)\n",
        "get_metrics(y_test, y_pred_lr)"
      ],
      "metadata": {
        "colab": {
          "base_uri": "https://localhost:8080/"
        },
        "id": "ZGGmR1R_xcOY",
        "outputId": "546dd0fb-c41e-4fe4-f2df-607d89029da7"
      },
      "execution_count": 29,
      "outputs": [
        {
          "output_type": "stream",
          "name": "stdout",
          "text": [
            "Accuracy:  0.49289582821312256\n",
            "Error:  0.49289582821312256\n",
            "Precision 0.47149283143903614\n",
            "Recall 0.42373659468757924\n",
            "F1 0.421719798563765\n"
          ]
        }
      ]
    },
    {
      "cell_type": "code",
      "source": [
        "from sklearn.tree import DecisionTreeClassifier\n",
        "dtc = DecisionTreeClassifier(random_state=8)\n",
        "dtc.fit(X_train,y_train)\n",
        "y_pred_dt = dtc.predict(X_test)\n",
        "get_metrics(y_test,y_pred_dt)"
      ],
      "metadata": {
        "id": "fUN32eTjxfhg",
        "colab": {
          "base_uri": "https://localhost:8080/"
        },
        "outputId": "92f81d4f-29c9-467a-c345-3200be9f653c"
      },
      "execution_count": 32,
      "outputs": [
        {
          "output_type": "stream",
          "name": "stdout",
          "text": [
            "Accuracy:  0.9989493649222994\n",
            "Error:  0.9989493649222994\n",
            "Precision 0.9989770560396671\n",
            "Recall 0.9989233008196045\n",
            "F1 0.9989501606862602\n"
          ]
        }
      ]
    },
    {
      "cell_type": "markdown",
      "source": [
        "## Saving the Models\n"
      ],
      "metadata": {
        "id": "1DDNeo6AHL29"
      }
    },
    {
      "cell_type": "markdown",
      "source": [
        "### Logistic Regression"
      ],
      "metadata": {
        "id": "p2suIoqdHaSZ"
      }
    },
    {
      "cell_type": "code",
      "source": [
        "filename = \"logistic_regressor.pkl\"\n",
        "pickle.dump(log_reg, open(filename, 'wb'))"
      ],
      "metadata": {
        "id": "2ELP3B-PHKXz"
      },
      "execution_count": 39,
      "outputs": []
    },
    {
      "cell_type": "markdown",
      "source": [
        "### Decision Tree Classifier"
      ],
      "metadata": {
        "id": "P0fDo6xjHunD"
      }
    },
    {
      "cell_type": "code",
      "source": [
        "filename_dtc = \"decision_tree_classifier.pkl\"\n",
        "pickle.dump(dtc, open(filename_dtc, 'wb'))"
      ],
      "metadata": {
        "id": "0qwWzMowH0yK"
      },
      "execution_count": 40,
      "outputs": []
    }
  ]
}